{
 "cells": [
  {
   "cell_type": "code",
   "execution_count": 1,
   "metadata": {},
   "outputs": [],
   "source": [
    "import pandas as pd \n",
    "import numpy as np \n",
    "import statsmodels.api as sm \n",
    "import matplotlib.pyplot as plt \n",
    "from sklearn.linear_model import LinearRegression \n",
    "import seaborn as sns \n"
   ]
  },
  {
   "cell_type": "code",
   "execution_count": 2,
   "metadata": {},
   "outputs": [],
   "source": [
    "df = pd.read_excel(\"./p1-customers.xlsx\")"
   ]
  },
  {
   "cell_type": "code",
   "execution_count": 3,
   "metadata": {},
   "outputs": [
    {
     "data": {
      "text/html": [
       "<div>\n",
       "<style scoped>\n",
       "    .dataframe tbody tr th:only-of-type {\n",
       "        vertical-align: middle;\n",
       "    }\n",
       "\n",
       "    .dataframe tbody tr th {\n",
       "        vertical-align: top;\n",
       "    }\n",
       "\n",
       "    .dataframe thead th {\n",
       "        text-align: right;\n",
       "    }\n",
       "</style>\n",
       "<table border=\"1\" class=\"dataframe\">\n",
       "  <thead>\n",
       "    <tr style=\"text-align: right;\">\n",
       "      <th></th>\n",
       "      <th>Name</th>\n",
       "      <th>Customer_Segment</th>\n",
       "      <th>Customer_ID</th>\n",
       "      <th>Address</th>\n",
       "      <th>City</th>\n",
       "      <th>State</th>\n",
       "      <th>ZIP</th>\n",
       "      <th>Avg_Sale_Amount</th>\n",
       "      <th>Store_Number</th>\n",
       "      <th>Responded_to_Last_Catalog</th>\n",
       "      <th>Avg_Num_Products_Purchased</th>\n",
       "      <th>#_Years_as_Customer</th>\n",
       "    </tr>\n",
       "  </thead>\n",
       "  <tbody>\n",
       "    <tr>\n",
       "      <th>0</th>\n",
       "      <td>Pamela Wright</td>\n",
       "      <td>Store Mailing List</td>\n",
       "      <td>2</td>\n",
       "      <td>376 S Jasmine St</td>\n",
       "      <td>Denver</td>\n",
       "      <td>CO</td>\n",
       "      <td>80224</td>\n",
       "      <td>227.90</td>\n",
       "      <td>100</td>\n",
       "      <td>No</td>\n",
       "      <td>1</td>\n",
       "      <td>6</td>\n",
       "    </tr>\n",
       "    <tr>\n",
       "      <th>1</th>\n",
       "      <td>Danell Valdez</td>\n",
       "      <td>Store Mailing List</td>\n",
       "      <td>7</td>\n",
       "      <td>12066 E Lake Cir</td>\n",
       "      <td>Greenwood Village</td>\n",
       "      <td>CO</td>\n",
       "      <td>80111</td>\n",
       "      <td>55.00</td>\n",
       "      <td>105</td>\n",
       "      <td>Yes</td>\n",
       "      <td>1</td>\n",
       "      <td>6</td>\n",
       "    </tr>\n",
       "    <tr>\n",
       "      <th>2</th>\n",
       "      <td>Jessica Rinehart</td>\n",
       "      <td>Store Mailing List</td>\n",
       "      <td>8</td>\n",
       "      <td>7225 S Gaylord St</td>\n",
       "      <td>Centennial</td>\n",
       "      <td>CO</td>\n",
       "      <td>80122</td>\n",
       "      <td>212.57</td>\n",
       "      <td>101</td>\n",
       "      <td>No</td>\n",
       "      <td>1</td>\n",
       "      <td>3</td>\n",
       "    </tr>\n",
       "    <tr>\n",
       "      <th>3</th>\n",
       "      <td>Nancy Clark</td>\n",
       "      <td>Store Mailing List</td>\n",
       "      <td>9</td>\n",
       "      <td>4497 Cornish Way</td>\n",
       "      <td>Denver</td>\n",
       "      <td>CO</td>\n",
       "      <td>80239</td>\n",
       "      <td>195.31</td>\n",
       "      <td>105</td>\n",
       "      <td>Yes</td>\n",
       "      <td>1</td>\n",
       "      <td>6</td>\n",
       "    </tr>\n",
       "    <tr>\n",
       "      <th>4</th>\n",
       "      <td>Andrea Brun</td>\n",
       "      <td>Store Mailing List</td>\n",
       "      <td>10</td>\n",
       "      <td>2316 E 5th Ave</td>\n",
       "      <td>Denver</td>\n",
       "      <td>CO</td>\n",
       "      <td>80206</td>\n",
       "      <td>110.55</td>\n",
       "      <td>100</td>\n",
       "      <td>Yes</td>\n",
       "      <td>1</td>\n",
       "      <td>2</td>\n",
       "    </tr>\n",
       "  </tbody>\n",
       "</table>\n",
       "</div>"
      ],
      "text/plain": [
       "               Name    Customer_Segment  Customer_ID            Address  \\\n",
       "0     Pamela Wright  Store Mailing List            2   376 S Jasmine St   \n",
       "1     Danell Valdez  Store Mailing List            7   12066 E Lake Cir   \n",
       "2  Jessica Rinehart  Store Mailing List            8  7225 S Gaylord St   \n",
       "3       Nancy Clark  Store Mailing List            9   4497 Cornish Way   \n",
       "4       Andrea Brun  Store Mailing List           10     2316 E 5th Ave   \n",
       "\n",
       "                City State    ZIP  Avg_Sale_Amount  Store_Number  \\\n",
       "0             Denver    CO  80224           227.90           100   \n",
       "1  Greenwood Village    CO  80111            55.00           105   \n",
       "2         Centennial    CO  80122           212.57           101   \n",
       "3             Denver    CO  80239           195.31           105   \n",
       "4             Denver    CO  80206           110.55           100   \n",
       "\n",
       "  Responded_to_Last_Catalog  Avg_Num_Products_Purchased  #_Years_as_Customer  \n",
       "0                        No                           1                    6  \n",
       "1                       Yes                           1                    6  \n",
       "2                        No                           1                    3  \n",
       "3                       Yes                           1                    6  \n",
       "4                       Yes                           1                    2  "
      ]
     },
     "execution_count": 3,
     "metadata": {},
     "output_type": "execute_result"
    }
   ],
   "source": [
    "df.head()"
   ]
  },
  {
   "cell_type": "code",
   "execution_count": 4,
   "metadata": {},
   "outputs": [
    {
     "name": "stdout",
     "output_type": "stream",
     "text": [
      "<class 'pandas.core.frame.DataFrame'>\n",
      "RangeIndex: 2375 entries, 0 to 2374\n",
      "Data columns (total 12 columns):\n",
      " #   Column                      Non-Null Count  Dtype  \n",
      "---  ------                      --------------  -----  \n",
      " 0   Name                        2375 non-null   object \n",
      " 1   Customer_Segment            2375 non-null   object \n",
      " 2   Customer_ID                 2375 non-null   int64  \n",
      " 3   Address                     2375 non-null   object \n",
      " 4   City                        2375 non-null   object \n",
      " 5   State                       2375 non-null   object \n",
      " 6   ZIP                         2375 non-null   int64  \n",
      " 7   Avg_Sale_Amount             2375 non-null   float64\n",
      " 8   Store_Number                2375 non-null   int64  \n",
      " 9   Responded_to_Last_Catalog   2375 non-null   object \n",
      " 10  Avg_Num_Products_Purchased  2375 non-null   int64  \n",
      " 11  #_Years_as_Customer         2375 non-null   int64  \n",
      "dtypes: float64(1), int64(5), object(6)\n",
      "memory usage: 222.8+ KB\n"
     ]
    }
   ],
   "source": [
    "df.info()"
   ]
  },
  {
   "cell_type": "code",
   "execution_count": 5,
   "metadata": {},
   "outputs": [
    {
     "data": {
      "text/plain": [
       "(2375, 12)"
      ]
     },
     "execution_count": 5,
     "metadata": {},
     "output_type": "execute_result"
    }
   ],
   "source": [
    "df.shape"
   ]
  },
  {
   "cell_type": "code",
   "execution_count": 6,
   "metadata": {},
   "outputs": [
    {
     "data": {
      "text/plain": [
       "0"
      ]
     },
     "execution_count": 6,
     "metadata": {},
     "output_type": "execute_result"
    }
   ],
   "source": [
    "df.duplicated().sum()"
   ]
  },
  {
   "cell_type": "code",
   "execution_count": 7,
   "metadata": {},
   "outputs": [
    {
     "data": {
      "text/plain": [
       "Store Mailing List              1108\n",
       "Loyalty Club Only                579\n",
       "Credit Card Only                 494\n",
       "Loyalty Club and Credit Card     194\n",
       "Name: Customer_Segment, dtype: int64"
      ]
     },
     "execution_count": 7,
     "metadata": {},
     "output_type": "execute_result"
    }
   ],
   "source": [
    "df['Customer_Segment'].value_counts()"
   ]
  },
  {
   "cell_type": "code",
   "execution_count": 8,
   "metadata": {},
   "outputs": [
    {
     "data": {
      "text/plain": [
       "(array(['Denver', 'Greenwood Village', 'Centennial', 'Lakewood', 'Arvada',\n",
       "        'Broomfield', 'Aurora', 'Englewood', 'Westminster', 'Northglenn',\n",
       "        'Littleton', 'Parker', 'Superior', 'Thornton', 'Brighton',\n",
       "        'Golden', 'Wheat Ridge', 'Castle Pines', 'Highlands Ranch',\n",
       "        'Edgewater', 'Commerce City', 'Boulder', 'Morrison', 'Lafayette',\n",
       "        'Louisville', 'Henderson', 'Lone Tree'], dtype=object),\n",
       " 27)"
      ]
     },
     "execution_count": 8,
     "metadata": {},
     "output_type": "execute_result"
    }
   ],
   "source": [
    "df['City'].unique(), df['City'].nunique()"
   ]
  },
  {
   "cell_type": "code",
   "execution_count": 9,
   "metadata": {},
   "outputs": [
    {
     "data": {
      "text/plain": [
       "10"
      ]
     },
     "execution_count": 9,
     "metadata": {},
     "output_type": "execute_result"
    }
   ],
   "source": [
    "len(df['Store_Number'].unique())"
   ]
  },
  {
   "cell_type": "code",
   "execution_count": 10,
   "metadata": {},
   "outputs": [
    {
     "data": {
      "text/plain": [
       "Denver               750\n",
       "Aurora               493\n",
       "Arvada               247\n",
       "Lakewood             217\n",
       "Broomfield           125\n",
       "Westminster           85\n",
       "Centennial            78\n",
       "Littleton             72\n",
       "Englewood             56\n",
       "Wheat Ridge           54\n",
       "Thornton              35\n",
       "Parker                27\n",
       "Northglenn            24\n",
       "Highlands Ranch       23\n",
       "Golden                19\n",
       "Greenwood Village     14\n",
       "Edgewater             12\n",
       "Commerce City         10\n",
       "Superior               9\n",
       "Morrison               7\n",
       "Lafayette              5\n",
       "Louisville             4\n",
       "Boulder                3\n",
       "Castle Pines           2\n",
       "Brighton               2\n",
       "Lone Tree              1\n",
       "Henderson              1\n",
       "Name: City, dtype: int64"
      ]
     },
     "execution_count": 10,
     "metadata": {},
     "output_type": "execute_result"
    }
   ],
   "source": [
    "df['City'].value_counts()"
   ]
  },
  {
   "cell_type": "code",
   "execution_count": 11,
   "metadata": {},
   "outputs": [
    {
     "data": {
      "text/html": [
       "<div>\n",
       "<style scoped>\n",
       "    .dataframe tbody tr th:only-of-type {\n",
       "        vertical-align: middle;\n",
       "    }\n",
       "\n",
       "    .dataframe tbody tr th {\n",
       "        vertical-align: top;\n",
       "    }\n",
       "\n",
       "    .dataframe thead th {\n",
       "        text-align: right;\n",
       "    }\n",
       "</style>\n",
       "<table border=\"1\" class=\"dataframe\">\n",
       "  <thead>\n",
       "    <tr style=\"text-align: right;\">\n",
       "      <th></th>\n",
       "      <th>Customer_Segment</th>\n",
       "      <th>Avg_Sale_Amount</th>\n",
       "      <th>Store_Number</th>\n",
       "      <th>Avg_Num_Products_Purchased</th>\n",
       "      <th>#_Years_as_Customer</th>\n",
       "    </tr>\n",
       "  </thead>\n",
       "  <tbody>\n",
       "    <tr>\n",
       "      <th>0</th>\n",
       "      <td>Store Mailing List</td>\n",
       "      <td>227.90</td>\n",
       "      <td>100</td>\n",
       "      <td>1</td>\n",
       "      <td>6</td>\n",
       "    </tr>\n",
       "    <tr>\n",
       "      <th>1</th>\n",
       "      <td>Store Mailing List</td>\n",
       "      <td>55.00</td>\n",
       "      <td>105</td>\n",
       "      <td>1</td>\n",
       "      <td>6</td>\n",
       "    </tr>\n",
       "    <tr>\n",
       "      <th>2</th>\n",
       "      <td>Store Mailing List</td>\n",
       "      <td>212.57</td>\n",
       "      <td>101</td>\n",
       "      <td>1</td>\n",
       "      <td>3</td>\n",
       "    </tr>\n",
       "    <tr>\n",
       "      <th>3</th>\n",
       "      <td>Store Mailing List</td>\n",
       "      <td>195.31</td>\n",
       "      <td>105</td>\n",
       "      <td>1</td>\n",
       "      <td>6</td>\n",
       "    </tr>\n",
       "    <tr>\n",
       "      <th>4</th>\n",
       "      <td>Store Mailing List</td>\n",
       "      <td>110.55</td>\n",
       "      <td>100</td>\n",
       "      <td>1</td>\n",
       "      <td>2</td>\n",
       "    </tr>\n",
       "  </tbody>\n",
       "</table>\n",
       "</div>"
      ],
      "text/plain": [
       "     Customer_Segment  Avg_Sale_Amount  Store_Number  \\\n",
       "0  Store Mailing List           227.90           100   \n",
       "1  Store Mailing List            55.00           105   \n",
       "2  Store Mailing List           212.57           101   \n",
       "3  Store Mailing List           195.31           105   \n",
       "4  Store Mailing List           110.55           100   \n",
       "\n",
       "   Avg_Num_Products_Purchased  #_Years_as_Customer  \n",
       "0                           1                    6  \n",
       "1                           1                    6  \n",
       "2                           1                    3  \n",
       "3                           1                    6  \n",
       "4                           1                    2  "
      ]
     },
     "execution_count": 11,
     "metadata": {},
     "output_type": "execute_result"
    }
   ],
   "source": [
    "df1 = df.copy()\n",
    "df1.drop(['Name','Address', 'State','ZIP', 'Customer_ID','City', 'Responded_to_Last_Catalog'], axis = 1, inplace= True)\n",
    "df1.head()"
   ]
  },
  {
   "cell_type": "code",
   "execution_count": 12,
   "metadata": {},
   "outputs": [
    {
     "data": {
      "text/plain": [
       "Text(0.5, 1.0, 'The Number of Customers in Each Segment')"
      ]
     },
     "execution_count": 12,
     "metadata": {},
     "output_type": "execute_result"
    },
    {
     "data": {
      "image/png": "[encoded data removed]",
      "text/plain": [
       "<Figure size 432x288 with 1 Axes>"
      ]
     },
     "metadata": {
      "needs_background": "light"
     },
     "output_type": "display_data"
    }
   ],
   "source": [
    "stage_order = df1['Customer_Segment'].value_counts().index\n",
    "sns.countplot(data = df1, x = 'Customer_Segment', order = stage_order)\n",
    "plt.xlabel('Customer Segment')\n",
    "plt.ylabel('Count')\n",
    "plt.xticks(rotation =10)\n",
    "plt.title('The Number of Customers in Each Segment')"
   ]
  },
  {
   "cell_type": "code",
   "execution_count": 13,
   "metadata": {},
   "outputs": [
    {
     "data": {
      "text/plain": [
       "(array([0, 1, 2, 3]),\n",
       " [Text(0, 0, 'Store Mailing List'),\n",
       "  Text(1, 0, 'Loyalty Club Only'),\n",
       "  Text(2, 0, 'Credit Card Only'),\n",
       "  Text(3, 0, 'Loyalty Club and Credit Card')])"
      ]
     },
     "execution_count": 13,
     "metadata": {},
     "output_type": "execute_result"
    },
    {
     "data": {
      "image/png": "[encoded data removed]",
      "text/plain": [
       "<Figure size 432x288 with 1 Axes>"
      ]
     },
     "metadata": {
      "needs_background": "light"
     },
     "output_type": "display_data"
    }
   ],
   "source": [
    "segment_order = df1['Customer_Segment'].value_counts().index\n",
    "sns.barplot(data = df1, x = 'Customer_Segment', y = '#_Years_as_Customer', order = segment_order)\n",
    "plt.xticks(rotation =10)"
   ]
  },
  {
   "cell_type": "code",
   "execution_count": 14,
   "metadata": {},
   "outputs": [
    {
     "data": {
      "text/plain": [
       "(array([0, 1, 2, 3]),\n",
       " [Text(0, 0, 'Store Mailing List'),\n",
       "  Text(1, 0, 'Loyalty Club Only'),\n",
       "  Text(2, 0, 'Credit Card Only'),\n",
       "  Text(3, 0, 'Loyalty Club and Credit Card')])"
      ]
     },
     "execution_count": 14,
     "metadata": {},
     "output_type": "execute_result"
    },
    {
     "data": {
      "image/png": "[encoded data removed]",
      "text/plain": [
       "<Figure size 432x288 with 1 Axes>"
      ]
     },
     "metadata": {
      "needs_background": "light"
     },
     "output_type": "display_data"
    }
   ],
   "source": [
    "sns.barplot(data = df1, x = 'Customer_Segment', y = 'Avg_Sale_Amount', order = segment_order)\n",
    "plt.xticks(rotation =10)"
   ]
  },
  {
   "cell_type": "code",
   "execution_count": 15,
   "metadata": {},
   "outputs": [
    {
     "data": {
      "text/plain": [
       "<AxesSubplot:xlabel='Store_Number', ylabel='Avg_Sale_Amount'>"
      ]
     },
     "execution_count": 15,
     "metadata": {},
     "output_type": "execute_result"
    },
    {
     "data": {
      "image/png": "[encoded data removed]",
      "text/plain": [
       "<Figure size 432x288 with 1 Axes>"
      ]
     },
     "metadata": {
      "needs_background": "light"
     },
     "output_type": "display_data"
    }
   ],
   "source": [
    "store_order= df1['Store_Number'].value_counts().index\n",
    "sns.barplot(data = df1, x = 'Store_Number', y = 'Avg_Sale_Amount' , order = store_order)"
   ]
  },
  {
   "cell_type": "code",
   "execution_count": 16,
   "metadata": {},
   "outputs": [
    {
     "data": {
      "text/plain": [
       "Text(0, 0.5, 'Average Sales Amount')"
      ]
     },
     "execution_count": 16,
     "metadata": {},
     "output_type": "execute_result"
    },
    {
     "data": {
      "image/png": "[encoded data removed]",
      "text/plain": [
       "<Figure size 432x288 with 1 Axes>"
      ]
     },
     "metadata": {
      "needs_background": "light"
     },
     "output_type": "display_data"
    }
   ],
   "source": [
    "plt.scatter(data = df, x = 'Avg_Num_Products_Purchased', y = 'Avg_Sale_Amount')\n",
    "plt.xlabel('Average Number of Product Purchased')\n",
    "plt.ylabel('Average Sales Amount')"
   ]
  },
  {
   "cell_type": "code",
   "execution_count": 17,
   "metadata": {},
   "outputs": [
    {
     "data": {
      "text/html": [
       "<div>\n",
       "<style scoped>\n",
       "    .dataframe tbody tr th:only-of-type {\n",
       "        vertical-align: middle;\n",
       "    }\n",
       "\n",
       "    .dataframe tbody tr th {\n",
       "        vertical-align: top;\n",
       "    }\n",
       "\n",
       "    .dataframe thead th {\n",
       "        text-align: right;\n",
       "    }\n",
       "</style>\n",
       "<table border=\"1\" class=\"dataframe\">\n",
       "  <thead>\n",
       "    <tr style=\"text-align: right;\">\n",
       "      <th></th>\n",
       "      <th>Avg_Sale_Amount</th>\n",
       "      <th>Store_Number</th>\n",
       "      <th>Avg_Num_Products_Purchased</th>\n",
       "      <th>#_Years_as_Customer</th>\n",
       "      <th>Customer_Segment_Loyalty Club Only</th>\n",
       "      <th>Customer_Segment_Loyalty Club and Credit Card</th>\n",
       "      <th>Customer_Segment_Store Mailing List</th>\n",
       "    </tr>\n",
       "  </thead>\n",
       "  <tbody>\n",
       "    <tr>\n",
       "      <th>0</th>\n",
       "      <td>227.90</td>\n",
       "      <td>100</td>\n",
       "      <td>1</td>\n",
       "      <td>6</td>\n",
       "      <td>0</td>\n",
       "      <td>0</td>\n",
       "      <td>1</td>\n",
       "    </tr>\n",
       "    <tr>\n",
       "      <th>1</th>\n",
       "      <td>55.00</td>\n",
       "      <td>105</td>\n",
       "      <td>1</td>\n",
       "      <td>6</td>\n",
       "      <td>0</td>\n",
       "      <td>0</td>\n",
       "      <td>1</td>\n",
       "    </tr>\n",
       "    <tr>\n",
       "      <th>2</th>\n",
       "      <td>212.57</td>\n",
       "      <td>101</td>\n",
       "      <td>1</td>\n",
       "      <td>3</td>\n",
       "      <td>0</td>\n",
       "      <td>0</td>\n",
       "      <td>1</td>\n",
       "    </tr>\n",
       "    <tr>\n",
       "      <th>3</th>\n",
       "      <td>195.31</td>\n",
       "      <td>105</td>\n",
       "      <td>1</td>\n",
       "      <td>6</td>\n",
       "      <td>0</td>\n",
       "      <td>0</td>\n",
       "      <td>1</td>\n",
       "    </tr>\n",
       "    <tr>\n",
       "      <th>4</th>\n",
       "      <td>110.55</td>\n",
       "      <td>100</td>\n",
       "      <td>1</td>\n",
       "      <td>2</td>\n",
       "      <td>0</td>\n",
       "      <td>0</td>\n",
       "      <td>1</td>\n",
       "    </tr>\n",
       "  </tbody>\n",
       "</table>\n",
       "</div>"
      ],
      "text/plain": [
       "   Avg_Sale_Amount  Store_Number  Avg_Num_Products_Purchased  \\\n",
       "0           227.90           100                           1   \n",
       "1            55.00           105                           1   \n",
       "2           212.57           101                           1   \n",
       "3           195.31           105                           1   \n",
       "4           110.55           100                           1   \n",
       "\n",
       "   #_Years_as_Customer  Customer_Segment_Loyalty Club Only  \\\n",
       "0                    6                                   0   \n",
       "1                    6                                   0   \n",
       "2                    3                                   0   \n",
       "3                    6                                   0   \n",
       "4                    2                                   0   \n",
       "\n",
       "   Customer_Segment_Loyalty Club and Credit Card  \\\n",
       "0                                              0   \n",
       "1                                              0   \n",
       "2                                              0   \n",
       "3                                              0   \n",
       "4                                              0   \n",
       "\n",
       "   Customer_Segment_Store Mailing List  \n",
       "0                                    1  \n",
       "1                                    1  \n",
       "2                                    1  \n",
       "3                                    1  \n",
       "4                                    1  "
      ]
     },
     "execution_count": 17,
     "metadata": {},
     "output_type": "execute_result"
    }
   ],
   "source": [
    "df2=pd.get_dummies(df1, drop_first = True)\n",
    "df2.head()"
   ]
  },
  {
   "cell_type": "code",
   "execution_count": 18,
   "metadata": {},
   "outputs": [
    {
     "data": {
      "text/html": [
       "<table class=\"simpletable\">\n",
       "<caption>OLS Regression Results</caption>\n",
       "<tr>\n",
       "  <th>Dep. Variable:</th>     <td>Avg_Sale_Amount</td> <th>  R-squared:         </th> <td>   0.837</td> \n",
       "</tr>\n",
       "<tr>\n",
       "  <th>Model:</th>                   <td>OLS</td>       <th>  Adj. R-squared:    </th> <td>   0.837</td> \n",
       "</tr>\n",
       "<tr>\n",
       "  <th>Method:</th>             <td>Least Squares</td>  <th>  F-statistic:       </th> <td>   2030.</td> \n",
       "</tr>\n",
       "<tr>\n",
       "  <th>Date:</th>             <td>Sun, 01 May 2022</td> <th>  Prob (F-statistic):</th>  <td>  0.00</td>  \n",
       "</tr>\n",
       "<tr>\n",
       "  <th>Time:</th>                 <td>23:07:51</td>     <th>  Log-Likelihood:    </th> <td> -15058.</td> \n",
       "</tr>\n",
       "<tr>\n",
       "  <th>No. Observations:</th>      <td>  2375</td>      <th>  AIC:               </th> <td>3.013e+04</td>\n",
       "</tr>\n",
       "<tr>\n",
       "  <th>Df Residuals:</th>          <td>  2368</td>      <th>  BIC:               </th> <td>3.017e+04</td>\n",
       "</tr>\n",
       "<tr>\n",
       "  <th>Df Model:</th>              <td>     6</td>      <th>                     </th>     <td> </td>    \n",
       "</tr>\n",
       "<tr>\n",
       "  <th>Covariance Type:</th>      <td>nonrobust</td>    <th>                     </th>     <td> </td>    \n",
       "</tr>\n",
       "</table>\n",
       "<table class=\"simpletable\">\n",
       "<tr>\n",
       "                        <td></td>                           <th>coef</th>     <th>std err</th>      <th>t</th>      <th>P>|t|</th>  <th>[0.025</th>    <th>0.975]</th>  \n",
       "</tr>\n",
       "<tr>\n",
       "  <th>const</th>                                         <td>  431.8525</td> <td>  104.960</td> <td>    4.114</td> <td> 0.000</td> <td>  226.029</td> <td>  637.676</td>\n",
       "</tr>\n",
       "<tr>\n",
       "  <th>Store_Number</th>                                  <td>   -1.1268</td> <td>    0.995</td> <td>   -1.132</td> <td> 0.258</td> <td>   -3.078</td> <td>    0.825</td>\n",
       "</tr>\n",
       "<tr>\n",
       "  <th>Avg_Num_Products_Purchased</th>                    <td>   66.9587</td> <td>    1.515</td> <td>   44.192</td> <td> 0.000</td> <td>   63.987</td> <td>   69.930</td>\n",
       "</tr>\n",
       "<tr>\n",
       "  <th>#_Years_as_Customer</th>                           <td>   -2.3527</td> <td>    1.223</td> <td>   -1.924</td> <td> 0.054</td> <td>   -4.751</td> <td>    0.045</td>\n",
       "</tr>\n",
       "<tr>\n",
       "  <th>Customer_Segment_Loyalty Club Only</th>            <td> -149.5398</td> <td>    8.976</td> <td>  -16.659</td> <td> 0.000</td> <td> -167.142</td> <td> -131.938</td>\n",
       "</tr>\n",
       "<tr>\n",
       "  <th>Customer_Segment_Loyalty Club and Credit Card</th> <td>  282.6100</td> <td>   11.909</td> <td>   23.730</td> <td> 0.000</td> <td>  259.256</td> <td>  305.964</td>\n",
       "</tr>\n",
       "<tr>\n",
       "  <th>Customer_Segment_Store Mailing List</th>           <td> -245.9219</td> <td>    9.769</td> <td>  -25.173</td> <td> 0.000</td> <td> -265.079</td> <td> -226.764</td>\n",
       "</tr>\n",
       "</table>\n",
       "<table class=\"simpletable\">\n",
       "<tr>\n",
       "  <th>Omnibus:</th>       <td>359.686</td> <th>  Durbin-Watson:     </th> <td>   2.037</td>\n",
       "</tr>\n",
       "<tr>\n",
       "  <th>Prob(Omnibus):</th> <td> 0.000</td>  <th>  Jarque-Bera (JB):  </th> <td>4770.525</td>\n",
       "</tr>\n",
       "<tr>\n",
       "  <th>Skew:</th>          <td> 0.232</td>  <th>  Prob(JB):          </th> <td>    0.00</td>\n",
       "</tr>\n",
       "<tr>\n",
       "  <th>Kurtosis:</th>      <td> 9.928</td>  <th>  Cond. No.          </th> <td>3.89e+03</td>\n",
       "</tr>\n",
       "</table><br/><br/>Notes:<br/>[1] Standard Errors assume that the covariance matrix of the errors is correctly specified.<br/>[2] The condition number is large, 3.89e+03. This might indicate that there are<br/>strong multicollinearity or other numerical problems."
      ],
      "text/plain": [
       "<class 'statsmodels.iolib.summary.Summary'>\n",
       "\"\"\"\n",
       "                            OLS Regression Results                            \n",
       "==============================================================================\n",
       "Dep. Variable:        Avg_Sale_Amount   R-squared:                       0.837\n",
       "Model:                            OLS   Adj. R-squared:                  0.837\n",
       "Method:                 Least Squares   F-statistic:                     2030.\n",
       "Date:                Sun, 01 May 2022   Prob (F-statistic):               0.00\n",
       "Time:                        23:07:51   Log-Likelihood:                -15058.\n",
       "No. Observations:                2375   AIC:                         3.013e+04\n",
       "Df Residuals:                    2368   BIC:                         3.017e+04\n",
       "Df Model:                           6                                         \n",
       "Covariance Type:            nonrobust                                         \n",
       "=================================================================================================================\n",
       "                                                    coef    std err          t      P>|t|      [0.025      0.975]\n",
       "-----------------------------------------------------------------------------------------------------------------\n",
       "const                                           431.8525    104.960      4.114      0.000     226.029     637.676\n",
       "Store_Number                                     -1.1268      0.995     -1.132      0.258      -3.078       0.825\n",
       "Avg_Num_Products_Purchased                       66.9587      1.515     44.192      0.000      63.987      69.930\n",
       "#_Years_as_Customer                              -2.3527      1.223     -1.924      0.054      -4.751       0.045\n",
       "Customer_Segment_Loyalty Club Only             -149.5398      8.976    -16.659      0.000    -167.142    -131.938\n",
       "Customer_Segment_Loyalty Club and Credit Card   282.6100     11.909     23.730      0.000     259.256     305.964\n",
       "Customer_Segment_Store Mailing List            -245.9219      9.769    -25.173      0.000    -265.079    -226.764\n",
       "==============================================================================\n",
       "Omnibus:                      359.686   Durbin-Watson:                   2.037\n",
       "Prob(Omnibus):                  0.000   Jarque-Bera (JB):             4770.525\n",
       "Skew:                           0.232   Prob(JB):                         0.00\n",
       "Kurtosis:                       9.928   Cond. No.                     3.89e+03\n",
       "==============================================================================\n",
       "\n",
       "Notes:\n",
       "[1] Standard Errors assume that the covariance matrix of the errors is correctly specified.\n",
       "[2] The condition number is large, 3.89e+03. This might indicate that there are\n",
       "strong multicollinearity or other numerical problems.\n",
       "\"\"\""
      ]
     },
     "execution_count": 18,
     "metadata": {},
     "output_type": "execute_result"
    }
   ],
   "source": [
    "target = df2['Avg_Sale_Amount']\n",
    "predictors= df2.drop(['Avg_Sale_Amount'],axis =1)\n",
    "predictor = sm.add_constant(predictors)\n",
    "model = sm.OLS(target,predictor).fit()\n",
    "model.summary()"
   ]
  },
  {
   "cell_type": "code",
   "execution_count": 19,
   "metadata": {},
   "outputs": [
    {
     "data": {
      "text/html": [
       "<table class=\"simpletable\">\n",
       "<caption>OLS Regression Results</caption>\n",
       "<tr>\n",
       "  <th>Dep. Variable:</th>     <td>Avg_Sale_Amount</td> <th>  R-squared:         </th> <td>   0.837</td> \n",
       "</tr>\n",
       "<tr>\n",
       "  <th>Model:</th>                   <td>OLS</td>       <th>  Adj. R-squared:    </th> <td>   0.837</td> \n",
       "</tr>\n",
       "<tr>\n",
       "  <th>Method:</th>             <td>Least Squares</td>  <th>  F-statistic:       </th> <td>   3040.</td> \n",
       "</tr>\n",
       "<tr>\n",
       "  <th>Date:</th>             <td>Sun, 01 May 2022</td> <th>  Prob (F-statistic):</th>  <td>  0.00</td>  \n",
       "</tr>\n",
       "<tr>\n",
       "  <th>Time:</th>                 <td>23:07:51</td>     <th>  Log-Likelihood:    </th> <td> -15061.</td> \n",
       "</tr>\n",
       "<tr>\n",
       "  <th>No. Observations:</th>      <td>  2375</td>      <th>  AIC:               </th> <td>3.013e+04</td>\n",
       "</tr>\n",
       "<tr>\n",
       "  <th>Df Residuals:</th>          <td>  2370</td>      <th>  BIC:               </th> <td>3.016e+04</td>\n",
       "</tr>\n",
       "<tr>\n",
       "  <th>Df Model:</th>              <td>     4</td>      <th>                     </th>     <td> </td>    \n",
       "</tr>\n",
       "<tr>\n",
       "  <th>Covariance Type:</th>      <td>nonrobust</td>    <th>                     </th>     <td> </td>    \n",
       "</tr>\n",
       "</table>\n",
       "<table class=\"simpletable\">\n",
       "<tr>\n",
       "                        <td></td>                           <th>coef</th>     <th>std err</th>      <th>t</th>      <th>P>|t|</th>  <th>[0.025</th>    <th>0.975]</th>  \n",
       "</tr>\n",
       "<tr>\n",
       "  <th>const</th>                                         <td>  303.4635</td> <td>   10.576</td> <td>   28.694</td> <td> 0.000</td> <td>  282.725</td> <td>  324.202</td>\n",
       "</tr>\n",
       "<tr>\n",
       "  <th>Avg_Num_Products_Purchased</th>                    <td>   66.9762</td> <td>    1.515</td> <td>   44.208</td> <td> 0.000</td> <td>   64.005</td> <td>   69.947</td>\n",
       "</tr>\n",
       "<tr>\n",
       "  <th>Customer_Segment_Loyalty Club Only</th>            <td> -149.3557</td> <td>    8.973</td> <td>  -16.645</td> <td> 0.000</td> <td> -166.951</td> <td> -131.760</td>\n",
       "</tr>\n",
       "<tr>\n",
       "  <th>Customer_Segment_Loyalty Club and Credit Card</th> <td>  281.8388</td> <td>   11.910</td> <td>   23.664</td> <td> 0.000</td> <td>  258.484</td> <td>  305.194</td>\n",
       "</tr>\n",
       "<tr>\n",
       "  <th>Customer_Segment_Store Mailing List</th>           <td> -245.4177</td> <td>    9.768</td> <td>  -25.125</td> <td> 0.000</td> <td> -264.572</td> <td> -226.263</td>\n",
       "</tr>\n",
       "</table>\n",
       "<table class=\"simpletable\">\n",
       "<tr>\n",
       "  <th>Omnibus:</th>       <td>359.638</td> <th>  Durbin-Watson:     </th> <td>   2.045</td>\n",
       "</tr>\n",
       "<tr>\n",
       "  <th>Prob(Omnibus):</th> <td> 0.000</td>  <th>  Jarque-Bera (JB):  </th> <td>4770.580</td>\n",
       "</tr>\n",
       "<tr>\n",
       "  <th>Skew:</th>          <td> 0.232</td>  <th>  Prob(JB):          </th> <td>    0.00</td>\n",
       "</tr>\n",
       "<tr>\n",
       "  <th>Kurtosis:</th>      <td> 9.928</td>  <th>  Cond. No.          </th> <td>    25.0</td>\n",
       "</tr>\n",
       "</table><br/><br/>Notes:<br/>[1] Standard Errors assume that the covariance matrix of the errors is correctly specified."
      ],
      "text/plain": [
       "<class 'statsmodels.iolib.summary.Summary'>\n",
       "\"\"\"\n",
       "                            OLS Regression Results                            \n",
       "==============================================================================\n",
       "Dep. Variable:        Avg_Sale_Amount   R-squared:                       0.837\n",
       "Model:                            OLS   Adj. R-squared:                  0.837\n",
       "Method:                 Least Squares   F-statistic:                     3040.\n",
       "Date:                Sun, 01 May 2022   Prob (F-statistic):               0.00\n",
       "Time:                        23:07:51   Log-Likelihood:                -15061.\n",
       "No. Observations:                2375   AIC:                         3.013e+04\n",
       "Df Residuals:                    2370   BIC:                         3.016e+04\n",
       "Df Model:                           4                                         \n",
       "Covariance Type:            nonrobust                                         \n",
       "=================================================================================================================\n",
       "                                                    coef    std err          t      P>|t|      [0.025      0.975]\n",
       "-----------------------------------------------------------------------------------------------------------------\n",
       "const                                           303.4635     10.576     28.694      0.000     282.725     324.202\n",
       "Avg_Num_Products_Purchased                       66.9762      1.515     44.208      0.000      64.005      69.947\n",
       "Customer_Segment_Loyalty Club Only             -149.3557      8.973    -16.645      0.000    -166.951    -131.760\n",
       "Customer_Segment_Loyalty Club and Credit Card   281.8388     11.910     23.664      0.000     258.484     305.194\n",
       "Customer_Segment_Store Mailing List            -245.4177      9.768    -25.125      0.000    -264.572    -226.263\n",
       "==============================================================================\n",
       "Omnibus:                      359.638   Durbin-Watson:                   2.045\n",
       "Prob(Omnibus):                  0.000   Jarque-Bera (JB):             4770.580\n",
       "Skew:                           0.232   Prob(JB):                         0.00\n",
       "Kurtosis:                       9.928   Cond. No.                         25.0\n",
       "==============================================================================\n",
       "\n",
       "Notes:\n",
       "[1] Standard Errors assume that the covariance matrix of the errors is correctly specified.\n",
       "\"\"\""
      ]
     },
     "execution_count": 19,
     "metadata": {},
     "output_type": "execute_result"
    }
   ],
   "source": [
    "pred = sm.add_constant(df2.drop(['Avg_Sale_Amount','Store_Number','#_Years_as_Customer'],axis =1))\n",
    "model1 = sm.OLS(target,pred).fit()\n",
    "model1.summary()"
   ]
  },
  {
   "cell_type": "code",
   "execution_count": 20,
   "metadata": {},
   "outputs": [
    {
     "data": {
      "text/plain": [
       "LinearRegression()"
      ]
     },
     "execution_count": 20,
     "metadata": {},
     "output_type": "execute_result"
    }
   ],
   "source": [
    "df3 = df2.drop(['Avg_Sale_Amount','Store_Number','#_Years_as_Customer'],axis =1)\n",
    "reg = LinearRegression()\n",
    "reg.fit(df3, target)"
   ]
  },
  {
   "cell_type": "code",
   "execution_count": 23,
   "metadata": {},
   "outputs": [],
   "source": [
    "y = reg.predict(df3)\n"
   ]
  },
  {
   "cell_type": "code",
   "execution_count": 22,
   "metadata": {},
   "outputs": [
    {
     "data": {
      "text/plain": [
       "(303.4634713146726,\n",
       " array([  66.97620492, -149.35572194,  281.83876492, -245.4177445 ]),\n",
       " 0.8368777093556734)"
      ]
     },
     "execution_count": 22,
     "metadata": {},
     "output_type": "execute_result"
    }
   ],
   "source": [
    "reg.intercept_, reg.coef_, reg.score(df3, target)"
   ]
  },
  {
   "cell_type": "code",
   "execution_count": 24,
   "metadata": {},
   "outputs": [],
   "source": [
    "test_d = pd.read_excel('./p1-mailinglist.xlsx')"
   ]
  },
  {
   "cell_type": "code",
   "execution_count": 26,
   "metadata": {},
   "outputs": [
    {
     "data": {
      "text/plain": [
       "250"
      ]
     },
     "execution_count": 26,
     "metadata": {},
     "output_type": "execute_result"
    }
   ],
   "source": [
    "len(test_d)"
   ]
  },
  {
   "cell_type": "code",
   "execution_count": 27,
   "metadata": {},
   "outputs": [],
   "source": [
    "data = test_d.drop(['Name','Customer_ID','Address','State','City','ZIP','Store_Number', '#_Years_as_Customer'], axis = 1)"
   ]
  },
  {
   "cell_type": "code",
   "execution_count": 28,
   "metadata": {},
   "outputs": [],
   "source": [
    "d = data.copy()\n",
    "d1 = d.drop(['Score_No', 'Score_Yes'], axis=1)\n",
    "d1=pd.get_dummies(d1, drop_first = True)"
   ]
  },
  {
   "cell_type": "code",
   "execution_count": 29,
   "metadata": {},
   "outputs": [],
   "source": [
    "data['Predicted_Revenue'] = reg.predict(d1)"
   ]
  },
  {
   "cell_type": "code",
   "execution_count": 30,
   "metadata": {},
   "outputs": [],
   "source": [
    "data['Expected_Revenue'] = data['Predicted_Revenue']*data['Score_Yes']"
   ]
  },
  {
   "cell_type": "code",
   "execution_count": 32,
   "metadata": {},
   "outputs": [
    {
     "data": {
      "text/html": [
       "<div>\n",
       "<style scoped>\n",
       "    .dataframe tbody tr th:only-of-type {\n",
       "        vertical-align: middle;\n",
       "    }\n",
       "\n",
       "    .dataframe tbody tr th {\n",
       "        vertical-align: top;\n",
       "    }\n",
       "\n",
       "    .dataframe thead th {\n",
       "        text-align: right;\n",
       "    }\n",
       "</style>\n",
       "<table border=\"1\" class=\"dataframe\">\n",
       "  <thead>\n",
       "    <tr style=\"text-align: right;\">\n",
       "      <th></th>\n",
       "      <th>Customer_Segment</th>\n",
       "      <th>Avg_Num_Products_Purchased</th>\n",
       "      <th>Score_No</th>\n",
       "      <th>Score_Yes</th>\n",
       "      <th>Predicted_Revenue</th>\n",
       "      <th>Expected_Revenue</th>\n",
       "    </tr>\n",
       "  </thead>\n",
       "  <tbody>\n",
       "    <tr>\n",
       "      <th>0</th>\n",
       "      <td>Loyalty Club Only</td>\n",
       "      <td>3</td>\n",
       "      <td>0.694964</td>\n",
       "      <td>0.305036</td>\n",
       "      <td>355.036364</td>\n",
       "      <td>108.298804</td>\n",
       "    </tr>\n",
       "    <tr>\n",
       "      <th>1</th>\n",
       "      <td>Loyalty Club and Credit Card</td>\n",
       "      <td>6</td>\n",
       "      <td>0.527275</td>\n",
       "      <td>0.472725</td>\n",
       "      <td>987.159466</td>\n",
       "      <td>466.654501</td>\n",
       "    </tr>\n",
       "    <tr>\n",
       "      <th>2</th>\n",
       "      <td>Loyalty Club Only</td>\n",
       "      <td>7</td>\n",
       "      <td>0.421118</td>\n",
       "      <td>0.578882</td>\n",
       "      <td>622.941184</td>\n",
       "      <td>360.609345</td>\n",
       "    </tr>\n",
       "    <tr>\n",
       "      <th>3</th>\n",
       "      <td>Loyalty Club Only</td>\n",
       "      <td>2</td>\n",
       "      <td>0.694862</td>\n",
       "      <td>0.305138</td>\n",
       "      <td>288.060159</td>\n",
       "      <td>87.898046</td>\n",
       "    </tr>\n",
       "    <tr>\n",
       "      <th>4</th>\n",
       "      <td>Loyalty Club Only</td>\n",
       "      <td>4</td>\n",
       "      <td>0.612294</td>\n",
       "      <td>0.387706</td>\n",
       "      <td>422.012569</td>\n",
       "      <td>163.616744</td>\n",
       "    </tr>\n",
       "  </tbody>\n",
       "</table>\n",
       "</div>"
      ],
      "text/plain": [
       "               Customer_Segment  Avg_Num_Products_Purchased  Score_No  \\\n",
       "0             Loyalty Club Only                           3  0.694964   \n",
       "1  Loyalty Club and Credit Card                           6  0.527275   \n",
       "2             Loyalty Club Only                           7  0.421118   \n",
       "3             Loyalty Club Only                           2  0.694862   \n",
       "4             Loyalty Club Only                           4  0.612294   \n",
       "\n",
       "   Score_Yes  Predicted_Revenue  Expected_Revenue  \n",
       "0   0.305036         355.036364        108.298804  \n",
       "1   0.472725         987.159466        466.654501  \n",
       "2   0.578882         622.941184        360.609345  \n",
       "3   0.305138         288.060159         87.898046  \n",
       "4   0.387706         422.012569        163.616744  "
      ]
     },
     "execution_count": 32,
     "metadata": {},
     "output_type": "execute_result"
    }
   ],
   "source": [
    "data.head()"
   ]
  },
  {
   "cell_type": "code",
   "execution_count": 33,
   "metadata": {},
   "outputs": [
    {
     "data": {
      "text/plain": [
       "(47224.871373090646, 21987.435686545323)"
      ]
     },
     "execution_count": 33,
     "metadata": {},
     "output_type": "execute_result"
    }
   ],
   "source": [
    "total_exp_rev=data['Expected_Revenue'].sum()\n",
    "total_exp_profit = total_exp_rev*0.5 - (6.5*250)\n",
    "total_exp_rev, total_exp_profit"
   ]
  },
  {
   "cell_type": "code",
   "execution_count": null,
   "metadata": {},
   "outputs": [],
   "source": []
  }
 ],
 "metadata": {
  "kernelspec": {
   "display_name": "Python 3",
   "language": "python",
   "name": "python3"
  },
  "language_info": {
   "codemirror_mode": {
    "name": "ipython",
    "version": 3
   },
   "file_extension": ".py",
   "mimetype": "text/x-python",
   "name": "python",
   "nbconvert_exporter": "python",
   "pygments_lexer": "ipython3",
   "version": "3.7.9"
  }
 },
 "nbformat": 4,
 "nbformat_minor": 4
}
